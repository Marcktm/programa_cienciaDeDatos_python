{
  "cells": [
    {
      "cell_type": "markdown",
      "metadata": {},
      "source": [
        "# \ud83e\udd16 Clase 10 \u2013 Ense\u00f1ar a la IA \u2013 Parte 1\n",
        "\n",
        "## \ud83c\udfaf Objetivos:\n",
        "- Crear el primer modelo de clasificaci\u00f3n de im\u00e1genes.\n",
        "- Tomar fotos desde la c\u00e1mara o subir im\u00e1genes.\n",
        "- Entrenar el modelo y entender c\u00f3mo aprende la IA.\n",
        "- Observar las predicciones en tiempo real."
      ]
    },
    {
      "cell_type": "markdown",
      "metadata": {},
      "source": [
        "## \ud83e\uddea \u00bfQu\u00e9 vamos a hacer?\n",
        "- Crear un nuevo proyecto en [Teachable Machine](https://teachablemachine.withgoogle.com/)\n",
        "- Elegir la opci\u00f3n: **Image Project** \u2192 **Standard Image Model**\n",
        "- Crear **2 o 3 clases** (por ejemplo: feliz / triste, rojo / azul, manos arriba / manos abajo)"
      ]
    },
    {
      "cell_type": "markdown",
      "metadata": {},
      "source": [
        "## \ud83c\udfa5 Tomar ejemplos con la c\u00e1mara\n",
        "- Asegurate de tener luz y buena imagen.\n",
        "- Grab\u00e1 **al menos 20 ejemplos por clase**.\n",
        "- Pod\u00e9s usar objetos, gestos o expresiones faciales.\n",
        "- Tambi\u00e9n pod\u00e9s subir im\u00e1genes desde tu computadora."
      ]
    },
    {
      "cell_type": "markdown",
      "metadata": {},
      "source": [
        "## \u2699\ufe0f Entrenar el modelo\n",
        "- Hac\u00e9 clic en el bot\u00f3n **Train Model**.\n",
        "- Esper\u00e1 unos segundos...\n",
        "- \u00a1Listo! El modelo ya puede predecir con la c\u00e1mara en vivo."
      ]
    },
    {
      "cell_type": "markdown",
      "metadata": {},
      "source": [
        "## \ud83d\udc40 Observar resultados\n",
        "- Prob\u00e1 mostrar objetos o hacer gestos.\n",
        "- Mir\u00e1 si la IA acierta o se equivoca.\n",
        "- Prob\u00e1 con alguien m\u00e1s para ver si funciona igual.\n",
        "\n",
        "\ud83d\udcac \u00bfTe parece que el modelo necesita m\u00e1s ejemplos?"
      ]
    },
    {
      "cell_type": "markdown",
      "metadata": {},
      "source": [
        "## \u2705 Desaf\u00edo 10\n",
        "- Crear y entrenar tu primer modelo de im\u00e1genes.\n",
        "- Usar al menos 2 clases con 20 ejemplos cada una.\n",
        "- Probar el modelo con la c\u00e1mara en vivo.\n",
        "- Anotar qu\u00e9 cosas predice bien y qu\u00e9 cosas no."
      ]
    }
  ],
  "metadata": {
    "colab": {
      "name": "Clase_10_Entrenamiento_Modelo_IA_Imagenes.ipynb",
      "provenance": []
    },
    "kernelspec": {
      "display_name": "Python 3",
      "language": "python",
      "name": "python3"
    },
    "language_info": {
      "name": "python"
    }
  },
  "nbformat": 4,
  "nbformat_minor": 0
}