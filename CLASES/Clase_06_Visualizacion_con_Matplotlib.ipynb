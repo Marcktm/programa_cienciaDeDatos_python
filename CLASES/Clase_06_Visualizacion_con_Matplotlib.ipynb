{
  "cells": [
    {
      "cell_type": "markdown",
      "metadata": {},
      "source": [
        "# \ud83d\udcd8 Clase 6 \u2013 Visualizaci\u00f3n con Matplotlib\n",
        "\n",
        "## \ud83c\udfaf Objetivos:\n",
        "- Aprender a crear gr\u00e1ficos de datos con Matplotlib.\n",
        "- Dibujar gr\u00e1ficos de barras, tortas y l\u00edneas.\n",
        "- Analizar visualmente la informaci\u00f3n."
      ]
    },
    {
      "cell_type": "markdown",
      "metadata": {},
      "source": [
        "## \ud83d\udcca \u00bfQu\u00e9 es Matplotlib?\n",
        "\n",
        "Es una biblioteca que permite crear gr\u00e1ficos en Python. Es ideal para representar los datos que tenemos con Pandas."
      ]
    },
    {
      "cell_type": "code",
      "execution_count": null,
      "metadata": {},
      "outputs": [],
      "source": [
        "import pandas as pd\n",
        "import matplotlib.pyplot as plt"
      ]
    },
    {
      "cell_type": "markdown",
      "metadata": {},
      "source": [
        "## \ud83d\udd22 Creamos un DataFrame para practicar:"
      ]
    },
    {
      "cell_type": "code",
      "execution_count": null,
      "metadata": {},
      "outputs": [],
      "source": [
        "datos = {\n",
        "    \"Fruta\": [\"Manzana\", \"Banana\", \"Naranja\", \"Pera\"],\n",
        "    \"Consumo\": [30, 45, 25, 20]\n",
        "}\n",
        "\n",
        "df = pd.DataFrame(datos)\n",
        "df"
      ]
    },
    {
      "cell_type": "markdown",
      "metadata": {},
      "source": [
        "## \ud83d\udcc9 Gr\u00e1fico de barras"
      ]
    },
    {
      "cell_type": "code",
      "execution_count": null,
      "metadata": {},
      "outputs": [],
      "source": [
        "plt.bar(df[\"Fruta\"], df[\"Consumo\"])\n",
        "plt.title(\"Consumo de frutas\")\n",
        "plt.xlabel(\"Fruta\")\n",
        "plt.ylabel(\"Cantidad\")\n",
        "plt.show()"
      ]
    },
    {
      "cell_type": "markdown",
      "metadata": {},
      "source": [
        "## \ud83e\udd67 Gr\u00e1fico de torta (pie chart)"
      ]
    },
    {
      "cell_type": "code",
      "execution_count": null,
      "metadata": {},
      "outputs": [],
      "source": [
        "plt.pie(df[\"Consumo\"], labels=df[\"Fruta\"], autopct=\"%1.1f%%\")\n",
        "plt.title(\"Distribuci\u00f3n de consumo de frutas\")\n",
        "plt.axis(\"equal\")  # c\u00edrculo\n",
        "plt.show()"
      ]
    },
    {
      "cell_type": "markdown",
      "metadata": {},
      "source": [
        "## \ud83d\udcc8 Gr\u00e1fico de l\u00ednea (line chart)"
      ]
    },
    {
      "cell_type": "code",
      "execution_count": null,
      "metadata": {},
      "outputs": [],
      "source": [
        "plt.plot(df[\"Fruta\"], df[\"Consumo\"], marker=\"o\")\n",
        "plt.title(\"Consumo de frutas a lo largo del tiempo\")\n",
        "plt.grid(True)\n",
        "plt.show()"
      ]
    },
    {
      "cell_type": "markdown",
      "metadata": {},
      "source": [
        "## \u2705 Desaf\u00edo 6\n",
        "- Crear un DataFrame con 4 materias y sus notas promedio.\n",
        "- Hacer un gr\u00e1fico de barras con esos datos.\n",
        "- Extra: hacer una torta con la distribuci\u00f3n de tiempo dedicado a cada materia."
      ]
    }
  ],
  "metadata": {
    "colab": {
      "name": "Clase_06_Visualizacion_con_Matplotlib.ipynb",
      "provenance": []
    },
    "kernelspec": {
      "display_name": "Python 3",
      "language": "python",
      "name": "python3"
    },
    "language_info": {
      "name": "python"
    }
  },
  "nbformat": 4,
  "nbformat_minor": 0
}