{
  "cells": [
    {
      "cell_type": "markdown",
      "metadata": {},
      "source": [
        "# \ud83e\udd16 Clase 11 \u2013 Ense\u00f1ar a la IA \u2013 Parte 2\n",
        "\n",
        "## \ud83c\udfaf Objetivos:\n",
        "- Probar el modelo entrenado la clase pasada.\n",
        "- Evaluar su precisi\u00f3n con nuevos ejemplos.\n",
        "- Identificar errores y pensar mejoras.\n",
        "- Entender por qu\u00e9 la IA puede equivocarse."
      ]
    },
    {
      "cell_type": "markdown",
      "metadata": {},
      "source": [
        "## \ud83e\uddea \u00bfC\u00f3mo probar el modelo?\n",
        "- Abr\u00ed tu proyecto de Teachable Machine.\n",
        "- Activ\u00e1 la c\u00e1mara y mostr\u00e1 nuevas im\u00e1genes o gestos.\n",
        "- Prob\u00e1 con otros compa\u00f1eros u objetos distintos."
      ]
    },
    {
      "cell_type": "markdown",
      "metadata": {},
      "source": [
        "## \ud83d\udcca \u00bfQu\u00e9 observar?\n",
        "- \u00bfQu\u00e9 porcentaje de confianza muestra?\n",
        "- \u00bfSe confunde entre clases parecidas?\n",
        "- \u00bfNecesita m\u00e1s ejemplos o m\u00e1s clases?"
      ]
    },
    {
      "cell_type": "markdown",
      "metadata": {},
      "source": [
        "## \ud83e\udde0 \u00bfPor qu\u00e9 puede fallar?\n",
        "- Poca cantidad de datos.\n",
        "- Fotos mal iluminadas o desenfocadas.\n",
        "- Clases muy parecidas entre s\u00ed.\n",
        "- Movimiento r\u00e1pido que la c\u00e1mara no capta bien."
      ]
    },
    {
      "cell_type": "markdown",
      "metadata": {},
      "source": [
        "## \ud83d\udd04 \u00bfC\u00f3mo mejorar el modelo?\n",
        "- Agregar m\u00e1s ejemplos a cada clase.\n",
        "- Usar fotos desde distintos \u00e1ngulos o con luz distinta.\n",
        "- Dividir una clase en dos si hay mucha variedad.\n",
        "- Entrenar de nuevo con m\u00e1s datos."
      ]
    },
    {
      "cell_type": "markdown",
      "metadata": {},
      "source": [
        "## \u2705 Desaf\u00edo 11\n",
        "- Probar tu modelo con alguien m\u00e1s.\n",
        "- Anotar en qu\u00e9 se equivoca y en qu\u00e9 acierta.\n",
        "- Agregar ejemplos para mejorarlo.\n",
        "- Entrenar de nuevo y ver si mejora la precisi\u00f3n."
      ]
    }
  ],
  "metadata": {
    "colab": {
      "name": "Clase_11_Mejora_Modelo_TeachableMachine.ipynb",
      "provenance": []
    },
    "kernelspec": {
      "display_name": "Python 3",
      "language": "python",
      "name": "python3"
    },
    "language_info": {
      "name": "python"
    }
  },
  "nbformat": 4,
  "nbformat_minor": 0
}