{
  "cells": [
    {
      "cell_type": "markdown",
      "metadata": {},
      "source": [
        "# \ud83d\udcd8 Clase 3 \u2013 L\u00f3gica y Control de Flujo\n",
        "\n",
        "## \ud83c\udfaf Objetivos:\n",
        "- Usar condicionales (`if`, `else`, `elif`) para tomar decisiones.\n",
        "- Repetir acciones con bucles (`for`, `while`).\n",
        "- Aplicar l\u00f3gica para contar datos y resolver peque\u00f1os desaf\u00edos."
      ]
    },
    {
      "cell_type": "markdown",
      "metadata": {},
      "source": [
        "## \ud83d\udd01 Condicionales: if, else, elif\n",
        "Las usamos para ejecutar c\u00f3digo **solo si se cumple una condici\u00f3n**.\n"
      ]
    },
    {
      "cell_type": "code",
      "execution_count": null,
      "metadata": {},
      "outputs": [],
      "source": [
        "edad = 13\n",
        "\n",
        "if edad >= 13:\n",
        "    print(\"\u00a1Pod\u00e9s hacer este curso!\")\n",
        "else:\n",
        "    print(\"Este curso es para mayores de 11 a\u00f1os\")"
      ]
    },
    {
      "cell_type": "markdown",
      "metadata": {},
      "source": [
        "### elif \u2192 m\u00e1s de una condici\u00f3n:"
      ]
    },
    {
      "cell_type": "code",
      "execution_count": null,
      "metadata": {},
      "outputs": [],
      "source": [
        "nota = 7\n",
        "\n",
        "if nota >= 9:\n",
        "    print(\"Excelente\")\n",
        "elif nota >= 6:\n",
        "    print(\"Aprobado\")\n",
        "else:\n",
        "    print(\"A recuperar\")"
      ]
    },
    {
      "cell_type": "markdown",
      "metadata": {},
      "source": [
        "## \ud83d\udd01 Bucle for \u2013 repetir acciones\n",
        "Se usa para recorrer listas o repetir bloques de c\u00f3digo."
      ]
    },
    {
      "cell_type": "code",
      "execution_count": null,
      "metadata": {},
      "outputs": [],
      "source": [
        "frutas = [\"manzana\", \"banana\", \"uva\"]\n",
        "for fruta in frutas:\n",
        "    print(\"Me gusta la\", fruta)"
      ]
    },
    {
      "cell_type": "markdown",
      "metadata": {},
      "source": [
        "### Usar range() para repetir:\n",
        "\n",
        "```python\n",
        "for i in range(5):\n",
        "    print(i)\n",
        "```"
      ]
    },
    {
      "cell_type": "code",
      "execution_count": null,
      "metadata": {},
      "outputs": [],
      "source": [
        "for i in range(5):\n",
        "    print(\"Iteraci\u00f3n:\", i)"
      ]
    },
    {
      "cell_type": "markdown",
      "metadata": {},
      "source": [
        "## \ud83d\udd01 Bucle while \u2013 mientras algo sea cierto\n"
      ]
    },
    {
      "cell_type": "code",
      "execution_count": null,
      "metadata": {},
      "outputs": [],
      "source": [
        "contador = 0\n",
        "while contador < 3:\n",
        "    print(\"Contando:\", contador)\n",
        "    contador += 1"
      ]
    },
    {
      "cell_type": "markdown",
      "metadata": {},
      "source": [
        "## \u2705 Desaf\u00edo 3\n",
        "- Crear una lista de edades y contar cu\u00e1ntas son mayores de 12 a\u00f1os usando `for` y `if`.\n",
        "- Mostrar un mensaje para cada edad."
      ]
    }
  ],
  "metadata": {
    "colab": {
      "name": "Clase_03_Logica_y_Control_de_Flujo.ipynb",
      "provenance": []
    },
    "kernelspec": {
      "display_name": "Python 3",
      "language": "python",
      "name": "python3"
    },
    "language_info": {
      "name": "python"
    }
  },
  "nbformat": 4,
  "nbformat_minor": 0
}