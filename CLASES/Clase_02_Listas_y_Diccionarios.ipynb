{
  "cells": [
    {
      "cell_type": "markdown",
      "metadata": {},
      "source": [
        "# \ud83d\udcd8 Clase 2 \u2013 Variables, Listas y Diccionarios\n",
        "\n",
        "## \ud83c\udfaf Objetivos:\n",
        "- Crear y usar variables en Python.\n",
        "- Usar listas para almacenar muchos datos.\n",
        "- Conocer los diccionarios para guardar datos con nombre.\n"
      ]
    },
    {
      "cell_type": "markdown",
      "metadata": {},
      "source": [
        "## \ud83d\udce6 Variables en Python\n",
        "\n",
        "Una variable guarda un valor que podemos usar m\u00e1s adelante.\n",
        "```python\n",
        "nombre = \"Sof\u00eda\"\n",
        "edad = 13\n",
        "```\n",
        "Mostramos las variables:\n"
      ]
    },
    {
      "cell_type": "code",
      "execution_count": null,
      "metadata": {},
      "outputs": [],
      "source": [
        "nombre = \"Sof\u00eda\"\n",
        "edad = 13\n",
        "\n",
        "print(\"Nombre:\", nombre)\n",
        "print(\"Edad:\", edad)"
      ]
    },
    {
      "cell_type": "markdown",
      "metadata": {},
      "source": [
        "## \ud83d\udccb Listas en Python\n",
        "Una lista puede guardar muchos datos en una sola variable:"
      ]
    },
    {
      "cell_type": "code",
      "execution_count": null,
      "metadata": {},
      "outputs": [],
      "source": [
        "puntajes = [80, 95, 70, 60]\n",
        "print(\"Primer puntaje:\", puntajes[0])\n",
        "print(\"Todos los puntajes:\", puntajes)"
      ]
    },
    {
      "cell_type": "markdown",
      "metadata": {},
      "source": [
        "### Agregar, cambiar o quitar elementos de una lista"
      ]
    },
    {
      "cell_type": "code",
      "execution_count": null,
      "metadata": {},
      "outputs": [],
      "source": [
        "puntajes.append(90)\n",
        "puntajes[0] = 85\n",
        "puntajes.remove(60)\n",
        "print(\"Lista modificada:\", puntajes)"
      ]
    },
    {
      "cell_type": "markdown",
      "metadata": {},
      "source": [
        "## \ud83d\udcd6 Diccionarios en Python\n",
        "Guardan datos con nombre (clave: valor):"
      ]
    },
    {
      "cell_type": "code",
      "execution_count": null,
      "metadata": {},
      "outputs": [],
      "source": [
        "jugador = {\n",
        "    \"nombre\": \"Lucas\",\n",
        "    \"edad\": 12,\n",
        "    \"puntaje\": 88\n",
        "}\n",
        "\n",
        "print(\"Nombre:\", jugador[\"nombre\"])\n",
        "print(\"Edad:\", jugador[\"edad\"])\n",
        "print(\"Puntaje:\", jugador[\"puntaje\"])"
      ]
    },
    {
      "cell_type": "markdown",
      "metadata": {},
      "source": [
        "## \u2705 Desaf\u00edo 2\n",
        "- Crear una lista con 5 frutas.\n",
        "- Mostrar la segunda fruta.\n",
        "- Crear un diccionario con tu nombre, edad y hobby favorito."
      ]
    }
  ],
  "metadata": {
    "colab": {
      "name": "Clase_02_Listas_y_Diccionarios.ipynb",
      "provenance": []
    },
    "kernelspec": {
      "display_name": "Python 3",
      "language": "python",
      "name": "python3"
    },
    "language_info": {
      "name": "python"
    }
  },
  "nbformat": 4,
  "nbformat_minor": 0
}