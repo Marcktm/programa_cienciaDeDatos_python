{
  "cells": [
    {
      "cell_type": "markdown",
      "metadata": {},
      "source": [
        "# \ud83e\udd16 Clase 14 \u2013 Proyecto con IA \u2013 Parte 2\n",
        "\n",
        "## \ud83c\udfaf Objetivos:\n",
        "- Continuar el desarrollo del proyecto final.\n",
        "- Agregar elementos visuales con Matplotlib u otros.\n",
        "- Probar los comportamientos del sistema seg\u00fan las clases.\n",
        "- Afinar la l\u00f3gica de respuesta de la IA."
      ]
    },
    {
      "cell_type": "markdown",
      "metadata": {},
      "source": [
        "## \ud83e\udde9 \u00bfQu\u00e9 vas a hacer hoy?\n",
        "- Programar qu\u00e9 pasa cuando la IA detecta una clase espec\u00edfica.\n",
        "- Mostrar un mensaje, imagen o gr\u00e1fico diferente por clase.\n",
        "- Usar `if`, `elif`, y `else` para definir comportamientos.\n",
        "- Mostrar un gr\u00e1fico que acompa\u00f1e la predicci\u00f3n si quer\u00e9s sumar creatividad."
      ]
    },
    {
      "cell_type": "markdown",
      "metadata": {},
      "source": [
        "## \ud83d\udcc8 Ejemplo con Matplotlib (gr\u00e1fico seg\u00fan clase)"
      ]
    },
    {
      "cell_type": "code",
      "execution_count": null,
      "metadata": {},
      "outputs": [],
      "source": [
        "import matplotlib.pyplot as plt\n",
        "\n",
        "clase_detectada = \"contento\"\n",
        "\n",
        "if clase_detectada == \"contento\":\n",
        "    valores = [90, 10]\n",
        "    etiquetas = [\"Feliz \ud83d\ude04\", \"Triste \ud83d\ude22\"]\n",
        "    plt.pie(valores, labels=etiquetas, autopct=\"%1.1f%%\")\n",
        "    plt.title(\"Estado de \u00e1nimo detectado\")\n",
        "    plt.show()\n",
        "else:\n",
        "    print(\"Esperando una emoci\u00f3n reconocida...\")"
      ]
    },
    {
      "cell_type": "markdown",
      "metadata": {},
      "source": [
        "## \ud83e\udde0 Revisi\u00f3n del modelo:\n",
        "- \u00bfTu modelo IA funciona bien?\n",
        "- \u00bfNecesit\u00e1s mejorar los ejemplos?\n",
        "- \u00bfQu\u00e9 clase se detecta m\u00e1s f\u00e1cil?\n",
        "- \u00bfPod\u00e9s combinar predicci\u00f3n + visualizaci\u00f3n en tu app?"
      ]
    },
    {
      "cell_type": "markdown",
      "metadata": {},
      "source": [
        "## \u2705 Desaf\u00edo 14\n",
        "- Hac\u00e9 pruebas con tu modelo y c\u00f3digo.\n",
        "- Mostr\u00e1 una acci\u00f3n visual (gr\u00e1fico, mensaje, imagen) seg\u00fan la clase detectada.\n",
        "- Prepar\u00e1 todo para que la app funcione de principio a fin.\n",
        "- Pens\u00e1 si quer\u00e9s agregar algo m\u00e1s para la pr\u00f3xima clase final."
      ]
    }
  ],
  "metadata": {
    "colab": {
      "name": "Clase_14_Proyecto_IA_Parte_2.ipynb",
      "provenance": []
    },
    "kernelspec": {
      "display_name": "Python 3",
      "language": "python",
      "name": "python3"
    },
    "language_info": {
      "name": "python"
    }
  },
  "nbformat": 4,
  "nbformat_minor": 0
}