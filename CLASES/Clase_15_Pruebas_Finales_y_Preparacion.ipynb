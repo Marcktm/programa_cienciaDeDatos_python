{
  "cells": [
    {
      "cell_type": "markdown",
      "metadata": {},
      "source": [
        "# \ud83e\uddea Clase 15 \u2013 Pruebas Finales y Preparaci\u00f3n\n",
        "\n",
        "## \ud83c\udfaf Objetivos:\n",
        "- Realizar pruebas completas del proyecto con IA.\n",
        "- Ajustar la presentaci\u00f3n del proyecto final.\n",
        "- Asegurar que todo funcione bien antes de mostrarlo.\n",
        "- Preparar un discurso breve para compartir el proyecto con los dem\u00e1s."
      ]
    },
    {
      "cell_type": "markdown",
      "metadata": {},
      "source": [
        "## \u2705 Checklist del proyecto\n",
        "- [ ] El modelo de IA fue entrenado con suficientes ejemplos.\n",
        "- [ ] El c\u00f3digo reacciona correctamente a cada clase detectada.\n",
        "- [ ] Hay visualizaciones claras (gr\u00e1fico, imagen o texto).\n",
        "- [ ] El programa es f\u00e1cil de entender y presentar.\n"
      ]
    },
    {
      "cell_type": "markdown",
      "metadata": {},
      "source": [
        "## \ud83d\udca1 Consejos para mostrar tu proyecto:\n",
        "- Explic\u00e1 en 3 partes:\n",
        "  1. \u00bfQu\u00e9 hace tu proyecto?\n",
        "  2. \u00bfC\u00f3mo usaste la IA?\n",
        "  3. \u00bfQu\u00e9 aprendiste o descubriste?\n",
        "- Us\u00e1 palabras simples, \u00a1y no te olvides de disfrutar la presentaci\u00f3n!\n"
      ]
    },
    {
      "cell_type": "markdown",
      "metadata": {},
      "source": [
        "## \ud83d\udce6 Organizar tu notebook final\n",
        "- T\u00edtulo claro y autor.\n",
        "- Explicaci\u00f3n de tu idea.\n",
        "- C\u00f3digo organizado y comentado.\n",
        "- Gr\u00e1ficos o mensajes claros seg\u00fan la clase detectada.\n",
        "- \u00a1Pod\u00e9s agregar emojis, colores o estilos si quer\u00e9s personalizarlo!"
      ]
    },
    {
      "cell_type": "markdown",
      "metadata": {},
      "source": [
        "## \u270f\ufe0f Escrib\u00ed tu introducci\u00f3n final aqu\u00ed:"
      ]
    },
    {
      "cell_type": "code",
      "execution_count": null,
      "metadata": {},
      "outputs": [],
      "source": [
        "# \ud83d\udc47 Escrib\u00ed un peque\u00f1o texto para presentar tu proyecto:\n",
        "presentacion = '''\n",
        "Mi proyecto se llama 'Detector de Emociones'. Utiliza la c\u00e1mara para detectar si estoy feliz o triste, y muestra un mensaje distinto.\n",
        "Entren\u00e9 un modelo con Teachable Machine y lo conect\u00e9 con Python. \u00a1Me divert\u00ed mucho haci\u00e9ndolo!\n",
        "'''\n",
        "print(presentacion)"
      ]
    }
  ],
  "metadata": {
    "colab": {
      "name": "Clase_15_Pruebas_Finales_y_Preparacion.ipynb",
      "provenance": []
    },
    "kernelspec": {
      "display_name": "Python 3",
      "language": "python",
      "name": "python3"
    },
    "language_info": {
      "name": "python"
    }
  },
  "nbformat": 4,
  "nbformat_minor": 0
}