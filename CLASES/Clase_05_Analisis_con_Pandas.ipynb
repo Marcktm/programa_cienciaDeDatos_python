{
  "cells": [
    {
      "cell_type": "markdown",
      "metadata": {},
      "source": [
        "# \ud83d\udcd8 Clase 5 \u2013 An\u00e1lisis con Pandas\n",
        "\n",
        "## \ud83c\udfaf Objetivos:\n",
        "- Aprender a calcular estad\u00edsticas b\u00e1sicas con Pandas.\n",
        "- Usar `groupby` para agrupar datos y obtener promedios.\n",
        "- Practicar con datos simulados en un DataFrame."
      ]
    },
    {
      "cell_type": "markdown",
      "metadata": {},
      "source": [
        "## \ud83d\udcca Recordamos c\u00f3mo crear un DataFrame"
      ]
    },
    {
      "cell_type": "code",
      "execution_count": null,
      "metadata": {},
      "outputs": [],
      "source": [
        "import pandas as pd\n",
        "\n",
        "datos = {\n",
        "    \"Nombre\": [\"Ana\", \"Luis\", \"Sof\u00eda\", \"Tom\u00e1s\", \"Julia\"],\n",
        "    \"Edad\": [12, 14, 13, 14, 12],\n",
        "    \"Curso\": [\"A\", \"B\", \"A\", \"B\", \"A\"],\n",
        "    \"Puntaje\": [85, 90, 88, 76, 92]\n",
        "}\n",
        "\n",
        "df = pd.DataFrame(datos)\n",
        "df"
      ]
    },
    {
      "cell_type": "markdown",
      "metadata": {},
      "source": [
        "## \ud83d\udcc8 Estad\u00edsticas b\u00e1sicas\n",
        "Usamos funciones para ver el promedio, el m\u00e1ximo y otros valores:"
      ]
    },
    {
      "cell_type": "code",
      "execution_count": null,
      "metadata": {},
      "outputs": [],
      "source": [
        "print(\"Promedio de puntajes:\", df[\"Puntaje\"].mean())\n",
        "print(\"M\u00e1ximo puntaje:\", df[\"Puntaje\"].max())\n",
        "print(\"M\u00ednimo puntaje:\", df[\"Puntaje\"].min())"
      ]
    },
    {
      "cell_type": "markdown",
      "metadata": {},
      "source": [
        "## \ud83e\uddee Contar valores y frecuencias"
      ]
    },
    {
      "cell_type": "code",
      "execution_count": null,
      "metadata": {},
      "outputs": [],
      "source": [
        "# \u00bfCu\u00e1ntos alumnos hay por curso?\n",
        "df[\"Curso\"].value_counts()"
      ]
    },
    {
      "cell_type": "markdown",
      "metadata": {},
      "source": [
        "## \ud83d\udcda Agrupar datos con `groupby()`\n",
        "Ideal para comparar promedios entre grupos."
      ]
    },
    {
      "cell_type": "code",
      "execution_count": null,
      "metadata": {},
      "outputs": [],
      "source": [
        "df.groupby(\"Curso\")[\"Puntaje\"].mean()"
      ]
    },
    {
      "cell_type": "markdown",
      "metadata": {},
      "source": [
        "Tambi\u00e9n pod\u00e9s ver el promedio de **todas** las columnas num\u00e9ricas:"
      ]
    },
    {
      "cell_type": "code",
      "execution_count": null,
      "metadata": {},
      "outputs": [],
      "source": [
        "df.groupby(\"Curso\").mean(numeric_only=True)"
      ]
    },
    {
      "cell_type": "markdown",
      "metadata": {},
      "source": [
        "## \u2705 Desaf\u00edo 5\n",
        "- Crear un DataFrame con datos de comidas (nombre, categor\u00eda, calor\u00edas).\n",
        "- Contar cu\u00e1ntos alimentos hay por categor\u00eda (`value_counts`).\n",
        "- Mostrar el promedio de calor\u00edas por categor\u00eda (`groupby`)."
      ]
    }
  ],
  "metadata": {
    "colab": {
      "name": "Clase_05_Analisis_con_Pandas.ipynb",
      "provenance": []
    },
    "kernelspec": {
      "display_name": "Python 3",
      "language": "python",
      "name": "python3"
    },
    "language_info": {
      "name": "python"
    }
  },
  "nbformat": 4,
  "nbformat_minor": 0
}