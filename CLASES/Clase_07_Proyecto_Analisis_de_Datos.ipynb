{
  "cells": [
    {
      "cell_type": "markdown",
      "metadata": {},
      "source": [
        "# \ud83d\udcd8 Clase 7 \u2013 Proyecto de An\u00e1lisis de Datos\n",
        "\n",
        "## \ud83c\udfaf Objetivos:\n",
        "- Elegir un tema personal para analizar con datos.\n",
        "- Crear un DataFrame personalizado.\n",
        "- Aplicar filtros, estad\u00edsticas y gr\u00e1ficos.\n",
        "- Preparar una mini presentaci\u00f3n del an\u00e1lisis."
      ]
    },
    {
      "cell_type": "markdown",
      "metadata": {},
      "source": [
        "## \ud83e\udde0 \u00bfQu\u00e9 tema te interesa?\n",
        "Pod\u00e9s elegir algo como:\n",
        "- Deportes favoritos y tiempo practicado\n",
        "- Alimentos consumidos en la semana\n",
        "- Series o videojuegos preferidos y horas jugadas\n",
        "- Mascotas y sus caracter\u00edsticas\n",
        "- H\u00e1bitos de sue\u00f1o o estudio\n"
      ]
    },
    {
      "cell_type": "markdown",
      "metadata": {},
      "source": [
        "## \ud83d\udee0 Paso 1 \u2013 Crear un DataFrame con tus datos"
      ]
    },
    {
      "cell_type": "code",
      "execution_count": null,
      "metadata": {},
      "outputs": [],
      "source": [
        "import pandas as pd\n",
        "\n",
        "# Ejemplo con videojuegos\n",
        "datos = {\n",
        "    \"Videojuego\": [\"Minecraft\", \"Fortnite\", \"FIFA\", \"Among Us\"],\n",
        "    \"Horas\": [10, 7, 5, 3],\n",
        "    \"Multijugador\": [True, True, True, True]\n",
        "}\n",
        "\n",
        "df = pd.DataFrame(datos)\n",
        "df"
      ]
    },
    {
      "cell_type": "markdown",
      "metadata": {},
      "source": [
        "## \ud83d\udcca Paso 2 \u2013 Analizar con Pandas"
      ]
    },
    {
      "cell_type": "code",
      "execution_count": null,
      "metadata": {},
      "outputs": [],
      "source": [
        "print(\"Promedio de horas:\", df[\"Horas\"].mean())\n",
        "print(\"Juego m\u00e1s jugado:\", df.loc[df[\"Horas\"].idxmax(), \"Videojuego\"])"
      ]
    },
    {
      "cell_type": "markdown",
      "metadata": {},
      "source": [
        "## \ud83d\udcc8 Paso 3 \u2013 Graficar los resultados"
      ]
    },
    {
      "cell_type": "code",
      "execution_count": null,
      "metadata": {},
      "outputs": [],
      "source": [
        "import matplotlib.pyplot as plt\n",
        "\n",
        "plt.bar(df[\"Videojuego\"], df[\"Horas\"])\n",
        "plt.title(\"Horas jugadas por videojuego\")\n",
        "plt.ylabel(\"Horas\")\n",
        "plt.xticks(rotation=45)\n",
        "plt.show()"
      ]
    },
    {
      "cell_type": "markdown",
      "metadata": {},
      "source": [
        "## \u2705 Desaf\u00edo 7\n",
        "- Eleg\u00ed tu propio tema.\n",
        "- Carg\u00e1 los datos en un DataFrame.\n",
        "- Calcul\u00e1 estad\u00edsticas simples.\n",
        "- Hac\u00e9 al menos un gr\u00e1fico con Matplotlib.\n",
        "- Prepar\u00e1 una mini presentaci\u00f3n para la pr\u00f3xima clase."
      ]
    }
  ],
  "metadata": {
    "colab": {
      "name": "Clase_07_Proyecto_Analisis_de_Datos.ipynb",
      "provenance": []
    },
    "kernelspec": {
      "display_name": "Python 3",
      "language": "python",
      "name": "python3"
    },
    "language_info": {
      "name": "python"
    }
  },
  "nbformat": 4,
  "nbformat_minor": 0
}