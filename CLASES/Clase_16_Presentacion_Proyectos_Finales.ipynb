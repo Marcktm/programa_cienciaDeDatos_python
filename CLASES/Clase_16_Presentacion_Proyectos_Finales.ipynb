{
  "cells": [
    {
      "cell_type": "markdown",
      "metadata": {},
      "source": [
        "# \ud83c\udf89 Clase 16 \u2013 Presentaci\u00f3n de Proyectos Finales\n",
        "\n",
        "## \ud83c\udfaf Objetivos:\n",
        "- Compartir y disfrutar los proyectos creados con IA.\n",
        "- Escuchar a los compa\u00f1eros y dar feedback positivo.\n",
        "- Celebrar el final del curso y pensar qu\u00e9 caminos seguir."
      ]
    },
    {
      "cell_type": "markdown",
      "metadata": {},
      "source": [
        "## \ud83c\udfa4 Presentaciones del d\u00eda\n",
        "- Cada alumno muestra su notebook funcionando.\n",
        "- Explica qu\u00e9 hace el proyecto y c\u00f3mo us\u00f3 IA.\n",
        "- Muestra c\u00f3mo responde a las clases del modelo.\n",
        "- \u00a1Tiempo estimado: 2 a 3 minutos por persona!"
      ]
    },
    {
      "cell_type": "markdown",
      "metadata": {},
      "source": [
        "## \ud83d\udcac Preguntas para el grupo\n",
        "- \u00bfQu\u00e9 fue lo m\u00e1s creativo que viste?\n",
        "- \u00bfCu\u00e1l te dio ganas de probar o mejorar?\n",
        "- \u00bfAprendiste algo nuevo mirando otro proyecto?"
      ]
    },
    {
      "cell_type": "markdown",
      "metadata": {},
      "source": [
        "## \ud83c\udfc1 \u00a1Felicitaciones por completar el curso!\n",
        "\n",
        "Completaste 16 semanas aprendiendo:\n",
        "- Fundamentos de programaci\u00f3n con Python\n",
        "- An\u00e1lisis de datos con Pandas y Matplotlib\n",
        "- Creaci\u00f3n de modelos de Inteligencia Artificial\n",
        "- Desarrollo de ideas propias desde cero"
      ]
    },
    {
      "cell_type": "markdown",
      "metadata": {},
      "source": [
        "## \ud83c\udf93 \u00bfQu\u00e9 pod\u00e9s hacer ahora?\n",
        "- Seguir con **Desarrollo de Videojuegos en Python con Pygame** \ud83d\udd79\ufe0f\n",
        "- Aprender a crear videojuegos 3D con **Unity (C#)** o **Unreal Engine (Blueprints/C++)** \ud83c\udfae\n",
        "- Participar en torneos de programaci\u00f3n y ciencia de datos \ud83c\udfc6\n",
        "- Empezar a usar GitHub y compartir tus proyectos en l\u00ednea \ud83c\udf10"
      ]
    },
    {
      "cell_type": "markdown",
      "metadata": {},
      "source": [
        "## \ud83d\udcf8 \u00a1Record\u00e1 subir tu proyecto final a Google Drive o GitHub!\n",
        "- Si lo sub\u00eds, \u00a1podemos mostrarlo en la web del curso!\n",
        "- Tambi\u00e9n pod\u00e9s grabar un mini video mostrando c\u00f3mo funciona."
      ]
    },
    {
      "cell_type": "markdown",
      "metadata": {},
      "source": [
        "## \ud83e\udde1 Gracias por ser parte de esta experiencia\n",
        "\n",
        "\u00a1Seguimos aprendiendo juntos!\n",
        "\n",
        "**Coordinaci\u00f3n MegaMente Educaci\u00f3n**"
      ]
    }
  ],
  "metadata": {
    "colab": {
      "name": "Clase_16_Presentacion_Proyectos_Finales.ipynb",
      "provenance": []
    },
    "kernelspec": {
      "display_name": "Python 3",
      "language": "python",
      "name": "python3"
    },
    "language_info": {
      "name": "python"
    }
  },
  "nbformat": 4,
  "nbformat_minor": 0
}