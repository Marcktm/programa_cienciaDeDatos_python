{
  "cells": [
    {
      "cell_type": "markdown",
      "metadata": {},
      "source": [
        "# \ud83e\udd16 Clase 9 \u2013 \u00bfQu\u00e9 es la Inteligencia Artificial?\n",
        "\n",
        "## \ud83c\udfaf Objetivos:\n",
        "- Comprender qu\u00e9 es la Inteligencia Artificial (IA).\n",
        "- Diferenciar entre IA, algoritmos tradicionales y Machine Learning.\n",
        "- Explorar ejemplos reales de IA en videojuegos, redes sociales y m\u00e1s.\n",
        "- Crear cuenta y abrir Teachable Machine para ver c\u00f3mo funciona."
      ]
    },
    {
      "cell_type": "markdown",
      "metadata": {},
      "source": [
        "## \ud83e\udde0 \u00bfQu\u00e9 es la Inteligencia Artificial?\n",
        "- Es la capacidad de una computadora para hacer tareas que normalmente requieren inteligencia humana.\n",
        "- Por ejemplo: reconocer rostros, entender voz, jugar juegos, recomendar canciones."
      ]
    },
    {
      "cell_type": "markdown",
      "metadata": {},
      "source": [
        "## \ud83d\udd0d \u00bfCu\u00e1l es la diferencia entre...\n",
        "- **Algoritmo tradicional:** sigue reglas fijas (como una receta).\n",
        "- **Machine Learning:** aprende de ejemplos (como un alumno).\n",
        "- **IA:** es el campo completo que incluye ML, visi\u00f3n por computadora, procesamiento del lenguaje y m\u00e1s."
      ]
    },
    {
      "cell_type": "markdown",
      "metadata": {},
      "source": [
        "## \ud83d\udcf1 Ejemplos reales de IA que usamos todos los d\u00edas\n",
        "- Recomendaciones en YouTube o Spotify\n",
        "- Filtros de Instagram o TikTok\n",
        "- Autos que se manejan solos\n",
        "- Videojuegos con enemigos que aprenden tus movimientos"
      ]
    },
    {
      "cell_type": "markdown",
      "metadata": {},
      "source": [
        "## \ud83c\udf10 Explorando Teachable Machine\n",
        "**Link:** [https://teachablemachine.withgoogle.com](https://teachablemachine.withgoogle.com)\n",
        "\n",
        "### \u00bfQu\u00e9 pod\u00e9s hacer all\u00ed?\n",
        "- Crear modelos que reconozcan im\u00e1genes, sonidos o posturas.\n",
        "- Entrenar la IA con tu c\u00e1mara o archivos.\n",
        "- Descargar el modelo o conectarlo con tu c\u00f3digo."
      ]
    },
    {
      "cell_type": "markdown",
      "metadata": {},
      "source": [
        "## \u2705 Desaf\u00edo 9\n",
        "- Ingresar a Teachable Machine con tu cuenta de Google.\n",
        "- Explorar los modelos disponibles.\n",
        "- Crear un proyecto nuevo de im\u00e1genes (no hace falta entrenar todav\u00eda).\n",
        "- Pensar qu\u00e9 tipo de cosas podr\u00edas ense\u00f1arle a la IA (mascotas, objetos, caras, etc)."
      ]
    }
  ],
  "metadata": {
    "colab": {
      "name": "Clase_09_Introduccion_IA_y_Teachable_Machine.ipynb",
      "provenance": []
    },
    "kernelspec": {
      "display_name": "Python 3",
      "language": "python",
      "name": "python3"
    },
    "language_info": {
      "name": "python"
    }
  },
  "nbformat": 4,
  "nbformat_minor": 0
}