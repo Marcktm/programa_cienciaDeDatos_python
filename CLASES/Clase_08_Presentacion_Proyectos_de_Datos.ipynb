{
  "cells": [
    {
      "cell_type": "markdown",
      "metadata": {},
      "source": [
        "# \ud83d\udcd8 Clase 8 \u2013 Presentaci\u00f3n de Proyectos de Datos\n",
        "\n",
        "## \ud83c\udfaf Objetivos:\n",
        "- Compartir los proyectos de an\u00e1lisis realizados en la clase anterior.\n",
        "- Aprender a explicar visualmente datos con gr\u00e1ficos y estad\u00edsticas.\n",
        "- Dar y recibir feedback del grupo.\n",
        "- Conectar los conocimientos con lo que viene: Inteligencia Artificial."
      ]
    },
    {
      "cell_type": "markdown",
      "metadata": {},
      "source": [
        "## \ud83d\udce2 \u00bfQu\u00e9 vamos a hacer hoy?\n",
        "\n",
        "Cada alumno va a:\n",
        "- Mostrar su notebook.\n",
        "- Contar brevemente qu\u00e9 datos eligi\u00f3 y por qu\u00e9.\n",
        "- Mostrar un gr\u00e1fico.\n",
        "- Compartir una conclusi\u00f3n interesante de los datos."
      ]
    },
    {
      "cell_type": "markdown",
      "metadata": {},
      "source": [
        "## \ud83e\udde0 Preguntas para reflexionar:\n",
        "- \u00bfQu\u00e9 descubriste que no sab\u00edas antes?\n",
        "- \u00bfQu\u00e9 cambiar\u00edas si tuvieras m\u00e1s tiempo o datos?\n",
        "- \u00bfTe gustar\u00eda seguir analizando este tema en el futuro?\n"
      ]
    },
    {
      "cell_type": "markdown",
      "metadata": {},
      "source": [
        "## \ud83d\udde3 Feedback del grupo:\n",
        "- \u00bfQu\u00e9 fue lo que m\u00e1s te gust\u00f3 del proyecto de tu compa\u00f1ero?\n",
        "- \u00bfQu\u00e9 sugerencias pod\u00e9s dar para mejorarlo?\n",
        "- \u00bfSe entendi\u00f3 bien la informaci\u00f3n mostrada en el gr\u00e1fico?"
      ]
    },
    {
      "cell_type": "markdown",
      "metadata": {},
      "source": [
        "## \ud83e\udd16 \u00a1Pr\u00f3ximo paso: Inteligencia Artificial!\n",
        "\n",
        "La semana que viene vamos a empezar con un tema nuevo:\n",
        "**\u00bfC\u00f3mo entrenar a una computadora para que \"aprenda\" de los datos?**\n",
        "\n",
        "\u00a1Vamos a usar c\u00e1maras, gestos, im\u00e1genes y Teachable Machine para crear nuestros propios modelos de IA!"
      ]
    }
  ],
  "metadata": {
    "colab": {
      "name": "Clase_08_Presentacion_Proyectos_de_Datos.ipynb",
      "provenance": []
    },
    "kernelspec": {
      "display_name": "Python 3",
      "language": "python",
      "name": "python3"
    },
    "language_info": {
      "name": "python"
    }
  },
  "nbformat": 4,
  "nbformat_minor": 0
}