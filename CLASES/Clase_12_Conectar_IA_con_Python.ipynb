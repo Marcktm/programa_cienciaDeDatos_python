{
  "cells": [
    {
      "cell_type": "markdown",
      "metadata": {},
      "source": [
        "# \ud83e\udd16 Clase 12 \u2013 Conectar IA con Python\n",
        "\n",
        "## \ud83c\udfaf Objetivos:\n",
        "- Entender c\u00f3mo usar el modelo de Teachable Machine en nuestros programas.\n",
        "- Exportar el modelo en formato TensorFlow.\n",
        "- Hacer una prueba simple desde Python para simular una predicci\u00f3n.\n"
      ]
    },
    {
      "cell_type": "markdown",
      "metadata": {},
      "source": [
        "## \ud83d\udd01 \u00bfC\u00f3mo usar tu modelo de Teachable Machine?\n",
        "1. Abr\u00ed tu proyecto entrenado en [Teachable Machine](https://teachablemachine.withgoogle.com/)\n",
        "2. Hac\u00e9 clic en **Export Model**\n",
        "3. Eleg\u00ed la opci\u00f3n **TensorFlow.js** (no hace falta descargar por ahora)\n",
        "4. Copi\u00e1 el **enlace del modelo hospedado en la web**\n"
      ]
    },
    {
      "cell_type": "markdown",
      "metadata": {},
      "source": [
        "## \ud83e\uddea Simulaci\u00f3n con `requests` (modo texto)\n",
        "_Este ejemplo **no reconoce im\u00e1genes en vivo**, solo muestra c\u00f3mo se har\u00eda una petici\u00f3n si tuvieras una API._\n",
        "_M\u00e1s adelante podr\u00edamos usar interfaces web con `p5.js`, `Flask`, etc._"
      ]
    },
    {
      "cell_type": "code",
      "execution_count": null,
      "metadata": {},
      "outputs": [],
      "source": [
        "# Simulaci\u00f3n de predicci\u00f3n (estructura de una solicitud)\n",
        "import requests\n",
        "\n",
        "url = \"https://tu-modelo.appspot.com/predict\"  # <- Reemplazar por la URL real\n",
        "data = {\n",
        "    \"input\": \"imagen_base64\"\n",
        "}\n",
        "\n",
        "# response = requests.post(url, json=data)\n",
        "# print(response.json())\n",
        "print(\"\ud83d\udd04 Simulaci\u00f3n de env\u00edo de imagen al modelo (comentado por seguridad)\")"
      ]
    },
    {
      "cell_type": "markdown",
      "metadata": {},
      "source": [
        "## \u2705 Desaf\u00edo 12\n",
        "- Exportar tu modelo desde Teachable Machine en formato **TensorFlow.js**\n",
        "- Copiar la URL del modelo entrenado.\n",
        "- (Opcional) Probar la simulaci\u00f3n de env\u00edo de predicci\u00f3n en Python.\n",
        "- Pensar: \u00bfen qu\u00e9 tipo de aplicaci\u00f3n te gustar\u00eda usar tu modelo IA?"
      ]
    }
  ],
  "metadata": {
    "colab": {
      "name": "Clase_12_Conectar_IA_con_Python.ipynb",
      "provenance": []
    },
    "kernelspec": {
      "display_name": "Python 3",
      "language": "python",
      "name": "python3"
    },
    "language_info": {
      "name": "python"
    }
  },
  "nbformat": 4,
  "nbformat_minor": 0
}