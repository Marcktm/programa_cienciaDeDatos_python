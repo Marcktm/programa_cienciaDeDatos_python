{
  "cells": [
    {
      "cell_type": "markdown",
      "metadata": {},
      "source": [
        "# \ud83d\udcd8 Clase 4 \u2013 Introducci\u00f3n a Pandas\n",
        "\n",
        "## \ud83c\udfaf Objetivos:\n",
        "- Conocer la biblioteca Pandas.\n",
        "- Crear y explorar un DataFrame.\n",
        "- Cargar datos desde un archivo CSV.\n",
        "- Filtrar y ordenar datos b\u00e1sicos."
      ]
    },
    {
      "cell_type": "markdown",
      "metadata": {},
      "source": [
        "## \ud83e\uddea \u00bfQu\u00e9 es Pandas?\n",
        "\n",
        "Pandas es una biblioteca de Python para trabajar con **datos en tablas**, como si fueran hojas de c\u00e1lculo.\n",
        "\n",
        "Primero importamos la biblioteca:"
      ]
    },
    {
      "cell_type": "code",
      "execution_count": null,
      "metadata": {},
      "outputs": [],
      "source": [
        "import pandas as pd"
      ]
    },
    {
      "cell_type": "markdown",
      "metadata": {},
      "source": [
        "## \ud83d\udccb Crear un DataFrame (tabla de datos)"
      ]
    },
    {
      "cell_type": "code",
      "execution_count": null,
      "metadata": {},
      "outputs": [],
      "source": [
        "datos = {\n",
        "    \"Nombre\": [\"Ana\", \"Luis\", \"Sof\u00eda\"],\n",
        "    \"Edad\": [12, 14, 13],\n",
        "    \"Puntaje\": [85, 90, 88]\n",
        "}\n",
        "\n",
        "df = pd.DataFrame(datos)\n",
        "df"
      ]
    },
    {
      "cell_type": "markdown",
      "metadata": {},
      "source": [
        "## \ud83d\udcc2 Cargar un archivo CSV (si tenemos uno)\n",
        "*Nota: Si no ten\u00e9s un archivo CSV, pod\u00e9s usar el DataFrame anterior.*"
      ]
    },
    {
      "cell_type": "code",
      "execution_count": null,
      "metadata": {},
      "outputs": [],
      "source": [
        "# Descomentar si ten\u00e9s un archivo CSV en Drive o cargado en Colab\n",
        "# df = pd.read_csv(\"archivo.csv\")\n",
        "# df.head()  # muestra las primeras filas"
      ]
    },
    {
      "cell_type": "markdown",
      "metadata": {},
      "source": [
        "## \ud83d\udd0d Explorar los datos"
      ]
    },
    {
      "cell_type": "code",
      "execution_count": null,
      "metadata": {},
      "outputs": [],
      "source": [
        "print(\"Columnas:\", df.columns)\n",
        "print(\"Tama\u00f1o:\", df.shape)\n",
        "df.describe()"
      ]
    },
    {
      "cell_type": "markdown",
      "metadata": {},
      "source": [
        "## \ud83d\udd0e Filtrar y ordenar"
      ]
    },
    {
      "cell_type": "code",
      "execution_count": null,
      "metadata": {},
      "outputs": [],
      "source": [
        "# Mostrar solo los alumnos con puntaje mayor a 85\n",
        "df[df[\"Puntaje\"] > 85]"
      ]
    },
    {
      "cell_type": "code",
      "execution_count": null,
      "metadata": {},
      "outputs": [],
      "source": [
        "# Ordenar por edad\n",
        "df.sort_values(\"Edad\")"
      ]
    },
    {
      "cell_type": "markdown",
      "metadata": {},
      "source": [
        "## \u2705 Desaf\u00edo 4\n",
        "- Crear un DataFrame con tus amigos, sus edades y hobbies.\n",
        "- Mostrar solo los que tienen m\u00e1s de 12 a\u00f1os.\n",
        "- Ordenarlos por edad."
      ]
    }
  ],
  "metadata": {
    "colab": {
      "name": "Clase_04_Introduccion_a_Pandas.ipynb",
      "provenance": []
    },
    "kernelspec": {
      "display_name": "Python 3",
      "language": "python",
      "name": "python3"
    },
    "language_info": {
      "name": "python"
    }
  },
  "nbformat": 4,
  "nbformat_minor": 0
}