{
  "cells": [
    {
      "cell_type": "markdown",
      "metadata": {},
      "source": [
        "# \ud83e\udd16 Clase 13 \u2013 Proyecto con IA \u2013 Parte 1\n",
        "\n",
        "## \ud83c\udfaf Objetivos:\n",
        "- Comenzar el proyecto final con Inteligencia Artificial.\n",
        "- Aplicar el modelo entrenado en una idea creativa.\n",
        "- Integrar datos con visualizaciones b\u00e1sicas.\n",
        "- Planificar el funcionamiento del proyecto completo."
      ]
    },
    {
      "cell_type": "markdown",
      "metadata": {},
      "source": [
        "## \ud83e\udde0 \u00bfQu\u00e9 pod\u00e9s crear con IA?\n",
        "\n",
        "Ideas de proyecto:\n",
        "- Clasificador de emociones con tu rostro\n",
        "- Detector de objetos (pelotas, botellas, frutas)\n",
        "- Controlador de movimientos para juegos (manos arriba / abajo)\n",
        "- Clasificador de mascotas: gato / perro / otro\n",
        "- Reconocedor de posturas: sentado / parado\n"
      ]
    },
    {
      "cell_type": "markdown",
      "metadata": {},
      "source": [
        "## \ud83e\udde9 Estructura del proyecto\n",
        "- Us\u00e1s tu modelo de Teachable Machine exportado como **TensorFlow.js**.\n",
        "- El programa va a usar la c\u00e1mara para predecir la clase.\n",
        "- Mostrar\u00e1 un texto o gr\u00e1fico diferente seg\u00fan la clase detectada.\n",
        "\n",
        "Pod\u00e9s usar `p5.js` o integrar con HTML + Python (en niveles m\u00e1s avanzados)."
      ]
    },
    {
      "cell_type": "markdown",
      "metadata": {},
      "source": [
        "## \ud83d\udee0 Paso 1: Planificaci\u00f3n\n",
        "- \u00bfCu\u00e1l es la idea de tu proyecto?\n",
        "- \u00bfQu\u00e9 clases va a tener tu modelo?\n",
        "- \u00bfQu\u00e9 va a pasar cuando detecte cada clase?"
      ]
    },
    {
      "cell_type": "markdown",
      "metadata": {},
      "source": [
        "## \ud83e\uddea Ejemplo de predicci\u00f3n (simulado)"
      ]
    },
    {
      "cell_type": "code",
      "execution_count": null,
      "metadata": {},
      "outputs": [],
      "source": [
        "# Simulaci\u00f3n de predicci\u00f3n desde el modelo\n",
        "clase_detectada = \"feliz\"\n",
        "\n",
        "if clase_detectada == \"feliz\":\n",
        "    print(\"\ud83d\ude0a \u00a1Est\u00e1s sonriendo! Excelente!\")\n",
        "elif clase_detectada == \"triste\":\n",
        "    print(\"\ud83d\ude22 Parece que est\u00e1s triste. \u00bfQuer\u00e9s escuchar m\u00fasica?\")\n",
        "else:\n",
        "    print(\"\ud83e\udd16 No reconozco esta expresi\u00f3n. Intent\u00e1 de nuevo.\")"
      ]
    },
    {
      "cell_type": "markdown",
      "metadata": {},
      "source": [
        "## \u2705 Desaf\u00edo 13\n",
        "- Eleg\u00ed tu proyecto con IA.\n",
        "- Anot\u00e1 qu\u00e9 clases vas a usar.\n",
        "- Pens\u00e1 qu\u00e9 acciones har\u00e1 tu app seg\u00fan la clase detectada.\n",
        "- Hac\u00e9 una simulaci\u00f3n con `if` en Python para practicar la l\u00f3gica."
      ]
    }
  ],
  "metadata": {
    "colab": {
      "name": "Clase_13_Proyecto_IA_Parte_1.ipynb",
      "provenance": []
    },
    "kernelspec": {
      "display_name": "Python 3",
      "language": "python",
      "name": "python3"
    },
    "language_info": {
      "name": "python"
    }
  },
  "nbformat": 4,
  "nbformat_minor": 0
}